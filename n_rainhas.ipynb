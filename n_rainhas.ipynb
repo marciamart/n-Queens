{
  "nbformat": 4,
  "nbformat_minor": 0,
  "metadata": {
    "colab": {
      "provenance": [],
      "authorship_tag": "ABX9TyPgbwWCGSQ3XTwATmfTIbkH",
      "include_colab_link": true
    },
    "kernelspec": {
      "name": "python3",
      "display_name": "Python 3"
    },
    "language_info": {
      "name": "python"
    }
  },
  "cells": [
    {
      "cell_type": "markdown",
      "metadata": {
        "id": "view-in-github",
        "colab_type": "text"
      },
      "source": [
        "<a href=\"https://colab.research.google.com/github/marciamart/n-Queens/blob/main/n_rainhas.ipynb\" target=\"_parent\"><img src=\"https://colab.research.google.com/assets/colab-badge.svg\" alt=\"Open In Colab\"/></a>"
      ]
    },
    {
      "cell_type": "code",
      "source": [
        "!pip install python-sat"
      ],
      "metadata": {
        "colab": {
          "base_uri": "https://localhost:8080/"
        },
        "id": "NemzDXyPRqG3",
        "outputId": "1891c6fc-d598-48c5-df42-9be2207c41ba"
      },
      "execution_count": 3,
      "outputs": [
        {
          "output_type": "stream",
          "name": "stdout",
          "text": [
            "Collecting python-sat\n",
            "  Downloading python_sat-0.1.8.dev10-cp310-cp310-manylinux_2_17_x86_64.manylinux2014_x86_64.manylinux_2_28_x86_64.whl (2.3 MB)\n",
            "\u001b[2K     \u001b[90m━━━━━━━━━━━━━━━━━━━━━━━━━━━━━━━━━━━━━━━━\u001b[0m \u001b[32m2.3/2.3 MB\u001b[0m \u001b[31m9.1 MB/s\u001b[0m eta \u001b[36m0:00:00\u001b[0m\n",
            "\u001b[?25hRequirement already satisfied: six in /usr/local/lib/python3.10/dist-packages (from python-sat) (1.16.0)\n",
            "Installing collected packages: python-sat\n",
            "Successfully installed python-sat-0.1.8.dev10\n"
          ]
        }
      ]
    },
    {
      "cell_type": "markdown",
      "source": [
        "## **Resolução das n-rainhas**"
      ],
      "metadata": {
        "id": "9bGzTqzqbX11"
      }
    },
    {
      "cell_type": "code",
      "source": [
        "from pysat.solvers import Glucose4"
      ],
      "metadata": {
        "id": "-cTpxrAZRxw9"
      },
      "execution_count": 4,
      "outputs": []
    },
    {
      "cell_type": "markdown",
      "source": [
        "tratamento para ficar no padrão utilizado pelo solver"
      ],
      "metadata": {
        "id": "Y_vkd3vGbr8c"
      }
    },
    {
      "cell_type": "code",
      "source": [
        "n = int(input(f'Rainhas: '))\n",
        "mapping_to_int = {}\n",
        "mapping_to_string = {}\n",
        "\n",
        "cont = 1\n",
        "for i in range(1, n+1):\n",
        "  for j in range(1, n+1):\n",
        "    mapping_to_int[f'Q_{i}_{j}'] = cont\n",
        "    mapping_to_string[cont] = f'Q_{i}_{j}'\n",
        "    cont += 1\n",
        "\n",
        "print(mapping_to_string)\n",
        "print(mapping_to_int)"
      ],
      "metadata": {
        "colab": {
          "base_uri": "https://localhost:8080/"
        },
        "id": "P5h5X7AZS3JP",
        "outputId": "4eb0b566-3ee1-48bc-f409-88dbadebaed4"
      },
      "execution_count": 10,
      "outputs": [
        {
          "output_type": "stream",
          "name": "stdout",
          "text": [
            "Rainhas: 2\n",
            "{1: 'Q_1_1', 2: 'Q_1_2', 3: 'Q_2_1', 4: 'Q_2_2'}\n",
            "{'Q_1_1': 1, 'Q_1_2': 2, 'Q_2_1': 3, 'Q_2_2': 4}\n"
          ]
        }
      ]
    },
    {
      "cell_type": "markdown",
      "source": [
        "modelando cada restrição"
      ],
      "metadata": {
        "id": "9KSZdJ6RbVAm"
      }
    },
    {
      "cell_type": "code",
      "source": [
        "formula = Glucose4()\n",
        "\n",
        "#restrição 1 - não estar na mesma linha\n",
        "for linha in range(1,n+1):\n",
        "  for i in range(1, n+1):\n",
        "    for j in range(i+1, n+1):\n",
        "      formula.add_clause([-mapping_to_int[f'Q_{linha}_{i}'], -mapping_to_int[f'Q_{linha}_{j}']])\n",
        "for linha in range(1,n+1):\n",
        "  linha = [mapping_to_int[f'Q_{linha}_{i}'] for i in range(1, n+1)]\n",
        "  formula.add_clause(linha)\n",
        "\n",
        "#restrição 2 - não estar na mesma coluna\n",
        "for coluna in range(1, n+1):\n",
        "  for i in range(1, n+1):\n",
        "    for j in range(i+1, n+1):\n",
        "      formula.add_clause([-mapping_to_int[f'Q_{i}_{coluna}'], -mapping_to_int[f'Q_{j}_{coluna}']])\n",
        "for coluna in range(1, n+1):\n",
        "  coluna = [mapping_to_int[f'Q_{i}_{coluna}'] for i in range(1, n+1)]\n",
        "  formula.add_clause(coluna)\n",
        "\n",
        "#restrição 3 - não estar na diagonal principal\n",
        "for linha in range(1, n+1):\n",
        "  for coluna in range (1, n+1):\n",
        "    cont = 1\n",
        "    for linha2 in range(linha+1, n+1):\n",
        "      for coluna2 in range (1, n+1):\n",
        "        if linha + cont == linha2 and coluna + cont == coluna2:\n",
        "          formula.add_clause([-mapping_to_int[f'Q_{linha}_{coluna}'], -mapping_to_int[f'Q_{linha2}_{coluna2}']])\n",
        "          cont += 1\n",
        "\n",
        "#restrição 4 - não estar na diagonal secundária\n",
        "for linha in range(1, n+1):\n",
        "  for coluna in range (1, n+1):\n",
        "    cont = 1\n",
        "    for linha2 in range(linha+1, n+1):\n",
        "      for coluna2 in range (1, n+1):\n",
        "        if linha + cont == linha2 and coluna - cont == coluna2:\n",
        "          formula.add_clause([-mapping_to_int[f'Q_{linha}_{coluna}'], -mapping_to_int[f'Q_{linha2}_{coluna2}']])\n",
        "          cont += 1\n",
        "\n",
        "#printar onde estão as n rainhas\n",
        "print(formula.solve())\n",
        "print(formula.get_model())\n"
      ],
      "metadata": {
        "colab": {
          "base_uri": "https://localhost:8080/"
        },
        "id": "6qmRf7hjWh6U",
        "outputId": "5fd9b028-d1af-4784-cd6c-1328764242e4"
      },
      "execution_count": 11,
      "outputs": [
        {
          "output_type": "stream",
          "name": "stdout",
          "text": [
            "False\n",
            "None\n"
          ]
        }
      ]
    }
  ]
}