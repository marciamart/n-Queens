{
  "nbformat": 4,
  "nbformat_minor": 0,
  "metadata": {
    "colab": {
      "provenance": [],
      "authorship_tag": "ABX9TyPgbwWCGSQ3XTwATmfTIbkH",
      "include_colab_link": true
    },
    "kernelspec": {
      "name": "python3",
      "display_name": "Python 3"
    },
    "language_info": {
      "name": "python"
    }
  },
  "cells": [
    {
      "cell_type": "markdown",
      "metadata": {
        "id": "view-in-github",
        "colab_type": "text"
      },
      "source": [
        "<a href=\"https://colab.research.google.com/github/marciamart/n-Queens/blob/main/n_rainhas.ipynb\" target=\"_parent\"><img src=\"https://colab.research.google.com/assets/colab-badge.svg\" alt=\"Open In Colab\"/></a>"
      ]
    },
    {
      "cell_type": "code",
      "source": [
        "!pip install python-sat"
      ],
      "metadata": {
        "colab": {
          "base_uri": "https://localhost:8080/"
        },
        "id": "NemzDXyPRqG3",
        "outputId": "1891c6fc-d598-48c5-df42-9be2207c41ba"
      },
      "execution_count": 3,
      "outputs": [
        {
          "output_type": "stream",
          "name": "stdout",
          "text": [
            "Collecting python-sat\n",
            "  Downloading python_sat-0.1.8.dev10-cp310-cp310-manylinux_2_17_x86_64.manylinux2014_x86_64.manylinux_2_28_x86_64.whl (2.3 MB)\n",
            "\u001b[2K     \u001b[90m━━━━━━━━━━━━━━━━━━━━━━━━━━━━━━━━━━━━━━━━\u001b[0m \u001b[32m2.3/2.3 MB\u001b[0m \u001b[31m9.1 MB/s\u001b[0m eta \u001b[36m0:00:00\u001b[0m\n",
            "\u001b[?25hRequirement already satisfied: six in /usr/local/lib/python3.10/dist-packages (from python-sat) (1.16.0)\n",
            "Installing collected packages: python-sat\n",
            "Successfully installed python-sat-0.1.8.dev10\n"
          ]
        }
      ]
    },
    {
      "cell_type": "markdown",
      "source": [
        "## **Resolução das n-rainhas**"
      ],
      "metadata": {
        "id": "9bGzTqzqbX11"
      }
    },
    {
      "cell_type": "code",
      "source": [
        "from pysat.solvers import Glucose4"
      ],
      "metadata": {
        "id": "-cTpxrAZRxw9"
      },
      "execution_count": 12,
      "outputs": []
    },
    {
      "cell_type": "markdown",
      "source": [
        "tratamento para ficar no padrão utilizado pelo solver"
      ],
      "metadata": {
        "id": "Y_vkd3vGbr8c"
      }
    },
    {
      "cell_type": "code",
      "source": [
        "n = int(input(f'Rainhas: '))\n",
        "mapping_to_int = {}\n",
        "mapping_to_string = {}\n",
        "\n",
        "cont = 1\n",
        "for i in range(1, n+1):\n",
        "  for j in range(1, n+1):\n",
        "    mapping_to_int[f'Q_{i}_{j}'] = cont\n",
        "    mapping_to_string[cont] = f'Q_{i}_{j}'\n",
        "    cont += 1\n",
        "\n",
        "print(mapping_to_string)\n",
        "print(mapping_to_int)"
      ],
      "metadata": {
        "colab": {
          "base_uri": "https://localhost:8080/"
        },
        "id": "P5h5X7AZS3JP",
        "outputId": "8a07e55f-e3ea-425d-f11f-e00b42f8d675"
      },
      "execution_count": 13,
      "outputs": [
        {
          "output_type": "stream",
          "name": "stdout",
          "text": [
            "Rainhas: 8\n",
            "{1: 'Q_1_1', 2: 'Q_1_2', 3: 'Q_1_3', 4: 'Q_1_4', 5: 'Q_1_5', 6: 'Q_1_6', 7: 'Q_1_7', 8: 'Q_1_8', 9: 'Q_2_1', 10: 'Q_2_2', 11: 'Q_2_3', 12: 'Q_2_4', 13: 'Q_2_5', 14: 'Q_2_6', 15: 'Q_2_7', 16: 'Q_2_8', 17: 'Q_3_1', 18: 'Q_3_2', 19: 'Q_3_3', 20: 'Q_3_4', 21: 'Q_3_5', 22: 'Q_3_6', 23: 'Q_3_7', 24: 'Q_3_8', 25: 'Q_4_1', 26: 'Q_4_2', 27: 'Q_4_3', 28: 'Q_4_4', 29: 'Q_4_5', 30: 'Q_4_6', 31: 'Q_4_7', 32: 'Q_4_8', 33: 'Q_5_1', 34: 'Q_5_2', 35: 'Q_5_3', 36: 'Q_5_4', 37: 'Q_5_5', 38: 'Q_5_6', 39: 'Q_5_7', 40: 'Q_5_8', 41: 'Q_6_1', 42: 'Q_6_2', 43: 'Q_6_3', 44: 'Q_6_4', 45: 'Q_6_5', 46: 'Q_6_6', 47: 'Q_6_7', 48: 'Q_6_8', 49: 'Q_7_1', 50: 'Q_7_2', 51: 'Q_7_3', 52: 'Q_7_4', 53: 'Q_7_5', 54: 'Q_7_6', 55: 'Q_7_7', 56: 'Q_7_8', 57: 'Q_8_1', 58: 'Q_8_2', 59: 'Q_8_3', 60: 'Q_8_4', 61: 'Q_8_5', 62: 'Q_8_6', 63: 'Q_8_7', 64: 'Q_8_8'}\n",
            "{'Q_1_1': 1, 'Q_1_2': 2, 'Q_1_3': 3, 'Q_1_4': 4, 'Q_1_5': 5, 'Q_1_6': 6, 'Q_1_7': 7, 'Q_1_8': 8, 'Q_2_1': 9, 'Q_2_2': 10, 'Q_2_3': 11, 'Q_2_4': 12, 'Q_2_5': 13, 'Q_2_6': 14, 'Q_2_7': 15, 'Q_2_8': 16, 'Q_3_1': 17, 'Q_3_2': 18, 'Q_3_3': 19, 'Q_3_4': 20, 'Q_3_5': 21, 'Q_3_6': 22, 'Q_3_7': 23, 'Q_3_8': 24, 'Q_4_1': 25, 'Q_4_2': 26, 'Q_4_3': 27, 'Q_4_4': 28, 'Q_4_5': 29, 'Q_4_6': 30, 'Q_4_7': 31, 'Q_4_8': 32, 'Q_5_1': 33, 'Q_5_2': 34, 'Q_5_3': 35, 'Q_5_4': 36, 'Q_5_5': 37, 'Q_5_6': 38, 'Q_5_7': 39, 'Q_5_8': 40, 'Q_6_1': 41, 'Q_6_2': 42, 'Q_6_3': 43, 'Q_6_4': 44, 'Q_6_5': 45, 'Q_6_6': 46, 'Q_6_7': 47, 'Q_6_8': 48, 'Q_7_1': 49, 'Q_7_2': 50, 'Q_7_3': 51, 'Q_7_4': 52, 'Q_7_5': 53, 'Q_7_6': 54, 'Q_7_7': 55, 'Q_7_8': 56, 'Q_8_1': 57, 'Q_8_2': 58, 'Q_8_3': 59, 'Q_8_4': 60, 'Q_8_5': 61, 'Q_8_6': 62, 'Q_8_7': 63, 'Q_8_8': 64}\n"
          ]
        }
      ]
    },
    {
      "cell_type": "markdown",
      "source": [
        "modelando cada restrição"
      ],
      "metadata": {
        "id": "9KSZdJ6RbVAm"
      }
    },
    {
      "cell_type": "code",
      "source": [
        "formula = Glucose4()\n",
        "\n",
        "#restrição 1 - não estar na mesma linha\n",
        "for linha in range(1,n+1):\n",
        "  for i in range(1, n+1):\n",
        "    for j in range(i+1, n+1):\n",
        "      formula.add_clause([-mapping_to_int[f'Q_{linha}_{i}'], -mapping_to_int[f'Q_{linha}_{j}']])\n",
        "for linha in range(1,n+1):\n",
        "  linha = [mapping_to_int[f'Q_{linha}_{i}'] for i in range(1, n+1)]\n",
        "  formula.add_clause(linha)\n",
        "\n",
        "#restrição 2 - não estar na mesma coluna\n",
        "for coluna in range(1, n+1):\n",
        "  for i in range(1, n+1):\n",
        "    for j in range(i+1, n+1):\n",
        "      formula.add_clause([-mapping_to_int[f'Q_{i}_{coluna}'], -mapping_to_int[f'Q_{j}_{coluna}']])\n",
        "for coluna in range(1, n+1):\n",
        "  coluna = [mapping_to_int[f'Q_{i}_{coluna}'] for i in range(1, n+1)]\n",
        "  formula.add_clause(coluna)\n",
        "\n",
        "#restrição 3 - não estar na diagonal principal\n",
        "for linha in range(1, n+1):\n",
        "  for coluna in range (1, n+1):\n",
        "    cont = 1\n",
        "    for linha2 in range(linha+1, n+1):\n",
        "      for coluna2 in range (1, n+1):\n",
        "        if linha + cont == linha2 and coluna + cont == coluna2:\n",
        "          formula.add_clause([-mapping_to_int[f'Q_{linha}_{coluna}'], -mapping_to_int[f'Q_{linha2}_{coluna2}']])\n",
        "          cont += 1\n",
        "\n",
        "#restrição 4 - não estar na diagonal secundária\n",
        "for linha in range(1, n+1):\n",
        "  for coluna in range (1, n+1):\n",
        "    cont = 1\n",
        "    for linha2 in range(linha+1, n+1):\n",
        "      for coluna2 in range (1, n+1):\n",
        "        if linha + cont == linha2 and coluna - cont == coluna2:\n",
        "          formula.add_clause([-mapping_to_int[f'Q_{linha}_{coluna}'], -mapping_to_int[f'Q_{linha2}_{coluna2}']])\n",
        "          cont += 1\n",
        "\n",
        "#printar onde estão as n rainhas\n",
        "print(formula.solve())\n",
        "print(formula.get_model())\n"
      ],
      "metadata": {
        "colab": {
          "base_uri": "https://localhost:8080/"
        },
        "id": "6qmRf7hjWh6U",
        "outputId": "e76a1f07-ce0f-46ca-a881-cef47f82f9dc"
      },
      "execution_count": 14,
      "outputs": [
        {
          "output_type": "stream",
          "name": "stdout",
          "text": [
            "True\n",
            "[-1, -2, -3, 4, -5, -6, -7, -8, -9, 10, -11, -12, -13, -14, -15, -16, -17, -18, -19, -20, -21, -22, 23, -24, -25, -26, 27, -28, -29, -30, -31, -32, -33, -34, -35, -36, -37, 38, -39, -40, -41, -42, -43, -44, -45, -46, -47, 48, -49, -50, -51, -52, 53, -54, -55, -56, 57, -58, -59, -60, -61, -62, -63, -64]\n"
          ]
        }
      ]
    }
  ]
}